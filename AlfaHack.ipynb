{
  "nbformat": 4,
  "nbformat_minor": 0,
  "metadata": {
    "colab": {
      "provenance": []
    },
    "kernelspec": {
      "name": "python3",
      "display_name": "Python 3"
    },
    "language_info": {
      "name": "python"
    }
  },
  "cells": [
    {
      "cell_type": "code",
      "execution_count": null,
      "metadata": {
        "id": "TRjvDH1PB_Yt"
      },
      "outputs": [],
      "source": [
        "import numpy as np\n",
        "import pandas as pd\n",
        "import matplotlib.pyplot as plt\n",
        "from google.colab import files"
      ]
    },
    {
      "cell_type": "code",
      "source": [
        "# !pip install read_parquet\n",
        "!pip install fastparquet\n",
        "import pyarrow.parquet as pq\n",
        "\n",
        "# df.to_csv('filenamteste.csv')"
      ],
      "metadata": {
        "colab": {
          "base_uri": "https://localhost:8080/"
        },
        "id": "hE7Ntg05LUNW",
        "outputId": "2394df23-f25e-4989-c0e0-1c1ee25ac83e"
      },
      "execution_count": null,
      "outputs": [
        {
          "output_type": "stream",
          "name": "stdout",
          "text": [
            "Requirement already satisfied: fastparquet in /usr/local/lib/python3.10/dist-packages (2023.8.0)\n",
            "Requirement already satisfied: pandas>=1.5.0 in /usr/local/lib/python3.10/dist-packages (from fastparquet) (1.5.3)\n",
            "Requirement already satisfied: numpy>=1.20.3 in /usr/local/lib/python3.10/dist-packages (from fastparquet) (1.23.5)\n",
            "Requirement already satisfied: cramjam>=2.3 in /usr/local/lib/python3.10/dist-packages (from fastparquet) (2.7.0)\n",
            "Requirement already satisfied: fsspec in /usr/local/lib/python3.10/dist-packages (from fastparquet) (2023.6.0)\n",
            "Requirement already satisfied: packaging in /usr/local/lib/python3.10/dist-packages (from fastparquet) (23.2)\n",
            "Requirement already satisfied: python-dateutil>=2.8.1 in /usr/local/lib/python3.10/dist-packages (from pandas>=1.5.0->fastparquet) (2.8.2)\n",
            "Requirement already satisfied: pytz>=2020.1 in /usr/local/lib/python3.10/dist-packages (from pandas>=1.5.0->fastparquet) (2023.3.post1)\n",
            "Requirement already satisfied: six>=1.5 in /usr/local/lib/python3.10/dist-packages (from python-dateutil>=2.8.1->pandas>=1.5.0->fastparquet) (1.16.0)\n"
          ]
        }
      ]
    },
    {
      "cell_type": "code",
      "source": [
        "from lightgbm import LGBMClassifier\n",
        "from sklearn.metrics import roc_auc_score\n",
        "from sklearn.model_selection import train_test_split"
      ],
      "metadata": {
        "id": "2hTmaDl4QEju"
      },
      "execution_count": null,
      "outputs": []
    },
    {
      "cell_type": "code",
      "source": [
        "import fastparquet"
      ],
      "metadata": {
        "id": "dlNxTBbtPJyM"
      },
      "execution_count": null,
      "outputs": []
    },
    {
      "cell_type": "code",
      "source": [
        "files.upload()"
      ],
      "metadata": {
        "id": "6xlXZXx3Qbjr"
      },
      "execution_count": null,
      "outputs": []
    },
    {
      "cell_type": "code",
      "source": [
        "train_df = pd.read_parquet('train.parquet', engine='fastparquet')"
      ],
      "metadata": {
        "id": "xaS70ZuQOyvk"
      },
      "execution_count": null,
      "outputs": []
    },
    {
      "cell_type": "code",
      "source": [
        "train_df"
      ],
      "metadata": {
        "colab": {
          "base_uri": "https://localhost:8080/",
          "height": 443
        },
        "id": "7DldM4lUskhG",
        "outputId": "75602a6c-2a5c-4775-f880-c81215337b99"
      },
      "execution_count": null,
      "outputs": [
        {
          "output_type": "execute_result",
          "data": {
            "text/plain": [
              "            id  rko_start_months  max_end_fact_fin_deals  \\\n",
              "0            0         -1.279132                     NaN   \n",
              "1            1         -1.142591                     NaN   \n",
              "2            2          1.812270                     NaN   \n",
              "3            3         -0.479407                     NaN   \n",
              "4            4         -1.503690                     NaN   \n",
              "...        ...               ...                     ...   \n",
              "299995  299995          0.140494                     NaN   \n",
              "299996  299996         -0.578334                     NaN   \n",
              "299997  299997          2.052711                     NaN   \n",
              "299998  299998          1.051685                     NaN   \n",
              "299999  299999         -0.642357                     NaN   \n",
              "\n",
              "        max_end_plan_non_fin_deals  max_start_fin_deals  \\\n",
              "0                              NaN                  NaN   \n",
              "1                              NaN                  NaN   \n",
              "2                              NaN                  NaN   \n",
              "3                         0.356677                  NaN   \n",
              "4                              NaN                  NaN   \n",
              "...                            ...                  ...   \n",
              "299995                         NaN                  NaN   \n",
              "299996                   -0.773909                  NaN   \n",
              "299997                         NaN                  NaN   \n",
              "299998                         NaN                  NaN   \n",
              "299999                         NaN                  NaN   \n",
              "\n",
              "        max_start_non_fin_deals  min_end_fact_fin_deals  \\\n",
              "0                           NaN                     NaN   \n",
              "1                           NaN                     NaN   \n",
              "2                           NaN                     NaN   \n",
              "3                     -0.332867                     NaN   \n",
              "4                           NaN                     NaN   \n",
              "...                         ...                     ...   \n",
              "299995                      NaN                     NaN   \n",
              "299996                 0.182200                     NaN   \n",
              "299997                      NaN                     NaN   \n",
              "299998                      NaN                     NaN   \n",
              "299999                      NaN                     NaN   \n",
              "\n",
              "        min_end_plan_non_fin_deals  min_start_fin_deals  \\\n",
              "0                              NaN                  NaN   \n",
              "1                              NaN                  NaN   \n",
              "2                              NaN                  NaN   \n",
              "3                        -0.704164                  NaN   \n",
              "4                              NaN                  NaN   \n",
              "...                            ...                  ...   \n",
              "299995                         NaN                  NaN   \n",
              "299996                   -0.690771                  NaN   \n",
              "299997                         NaN                  NaN   \n",
              "299998                         NaN                  NaN   \n",
              "299999                         NaN                  NaN   \n",
              "\n",
              "        min_start_non_fin_deals  ...  cnt_days_cred_g_oper_3m  \\\n",
              "0                           NaN  ...                 0.352516   \n",
              "1                           NaN  ...                -0.188287   \n",
              "2                           NaN  ...                -0.323487   \n",
              "3                      0.905748  ...                -0.323487   \n",
              "4                           NaN  ...                -0.323487   \n",
              "...                         ...  ...                      ...   \n",
              "299995                      NaN  ...                 0.082114   \n",
              "299996                -0.519096  ...                -0.323487   \n",
              "299997                      NaN  ...                -0.323487   \n",
              "299998                      NaN  ...                -0.188287   \n",
              "299999                      NaN  ...                -0.323487   \n",
              "\n",
              "        sum_deb_h_oper_3m  cnt_deb_h_oper_3m  cnt_days_deb_h_oper_3m  \\\n",
              "0               -0.081310           0.210189                1.140808   \n",
              "1               -0.650616          -0.316563               -1.136536   \n",
              "2                0.632731           2.541558                3.017482   \n",
              "3               -0.003549          -0.219016                0.228624   \n",
              "4                0.182726          -0.287299               -0.528921   \n",
              "...                   ...                ...                     ...   \n",
              "299995           0.276906           0.346755                1.535162   \n",
              "299996          -0.264553          -0.316563               -0.472916   \n",
              "299997           0.139359          -0.316563               -0.768966   \n",
              "299998          -0.122459          -0.316563               -0.317586   \n",
              "299999          -0.253432          -0.267790               -0.269303   \n",
              "\n",
              "       sum_cred_h_oper_3m cnt_cred_h_oper_3m cnt_days_cred_h_oper_3m target_1  \\\n",
              "0                0.647477           0.810887                1.909568        0   \n",
              "1               -0.127326          -0.147319               -0.517805        0   \n",
              "2                0.033394           0.019972                0.578428        0   \n",
              "3               -0.428185          -0.220932               -0.596108        0   \n",
              "4               -0.563335          -0.021506               -0.361201        0   \n",
              "...                   ...                ...                     ...      ...   \n",
              "299995           0.718633          -0.242059               -0.047991        0   \n",
              "299996          -0.053175           0.222753               -0.596108        0   \n",
              "299997          -0.115407          -0.054465               -0.047991        0   \n",
              "299998           0.829699          -0.416806               -0.596108        0   \n",
              "299999           0.615901          -0.213982               -0.047991        0   \n",
              "\n",
              "        target_2  total_target  \n",
              "0              0             0  \n",
              "1              0             0  \n",
              "2              0             0  \n",
              "3              0             0  \n",
              "4              0             0  \n",
              "...          ...           ...  \n",
              "299995         0             0  \n",
              "299996         0             0  \n",
              "299997         0             0  \n",
              "299998         1             1  \n",
              "299999         0             0  \n",
              "\n",
              "[300000 rows x 103 columns]"
            ],
            "text/html": [
              "\n",
              "  <div id=\"df-b2501984-8019-4f64-bcf3-2650f3db1f52\" class=\"colab-df-container\">\n",
              "    <div>\n",
              "<style scoped>\n",
              "    .dataframe tbody tr th:only-of-type {\n",
              "        vertical-align: middle;\n",
              "    }\n",
              "\n",
              "    .dataframe tbody tr th {\n",
              "        vertical-align: top;\n",
              "    }\n",
              "\n",
              "    .dataframe thead th {\n",
              "        text-align: right;\n",
              "    }\n",
              "</style>\n",
              "<table border=\"1\" class=\"dataframe\">\n",
              "  <thead>\n",
              "    <tr style=\"text-align: right;\">\n",
              "      <th></th>\n",
              "      <th>id</th>\n",
              "      <th>rko_start_months</th>\n",
              "      <th>max_end_fact_fin_deals</th>\n",
              "      <th>max_end_plan_non_fin_deals</th>\n",
              "      <th>max_start_fin_deals</th>\n",
              "      <th>max_start_non_fin_deals</th>\n",
              "      <th>min_end_fact_fin_deals</th>\n",
              "      <th>min_end_plan_non_fin_deals</th>\n",
              "      <th>min_start_fin_deals</th>\n",
              "      <th>min_start_non_fin_deals</th>\n",
              "      <th>...</th>\n",
              "      <th>cnt_days_cred_g_oper_3m</th>\n",
              "      <th>sum_deb_h_oper_3m</th>\n",
              "      <th>cnt_deb_h_oper_3m</th>\n",
              "      <th>cnt_days_deb_h_oper_3m</th>\n",
              "      <th>sum_cred_h_oper_3m</th>\n",
              "      <th>cnt_cred_h_oper_3m</th>\n",
              "      <th>cnt_days_cred_h_oper_3m</th>\n",
              "      <th>target_1</th>\n",
              "      <th>target_2</th>\n",
              "      <th>total_target</th>\n",
              "    </tr>\n",
              "  </thead>\n",
              "  <tbody>\n",
              "    <tr>\n",
              "      <th>0</th>\n",
              "      <td>0</td>\n",
              "      <td>-1.279132</td>\n",
              "      <td>NaN</td>\n",
              "      <td>NaN</td>\n",
              "      <td>NaN</td>\n",
              "      <td>NaN</td>\n",
              "      <td>NaN</td>\n",
              "      <td>NaN</td>\n",
              "      <td>NaN</td>\n",
              "      <td>NaN</td>\n",
              "      <td>...</td>\n",
              "      <td>0.352516</td>\n",
              "      <td>-0.081310</td>\n",
              "      <td>0.210189</td>\n",
              "      <td>1.140808</td>\n",
              "      <td>0.647477</td>\n",
              "      <td>0.810887</td>\n",
              "      <td>1.909568</td>\n",
              "      <td>0</td>\n",
              "      <td>0</td>\n",
              "      <td>0</td>\n",
              "    </tr>\n",
              "    <tr>\n",
              "      <th>1</th>\n",
              "      <td>1</td>\n",
              "      <td>-1.142591</td>\n",
              "      <td>NaN</td>\n",
              "      <td>NaN</td>\n",
              "      <td>NaN</td>\n",
              "      <td>NaN</td>\n",
              "      <td>NaN</td>\n",
              "      <td>NaN</td>\n",
              "      <td>NaN</td>\n",
              "      <td>NaN</td>\n",
              "      <td>...</td>\n",
              "      <td>-0.188287</td>\n",
              "      <td>-0.650616</td>\n",
              "      <td>-0.316563</td>\n",
              "      <td>-1.136536</td>\n",
              "      <td>-0.127326</td>\n",
              "      <td>-0.147319</td>\n",
              "      <td>-0.517805</td>\n",
              "      <td>0</td>\n",
              "      <td>0</td>\n",
              "      <td>0</td>\n",
              "    </tr>\n",
              "    <tr>\n",
              "      <th>2</th>\n",
              "      <td>2</td>\n",
              "      <td>1.812270</td>\n",
              "      <td>NaN</td>\n",
              "      <td>NaN</td>\n",
              "      <td>NaN</td>\n",
              "      <td>NaN</td>\n",
              "      <td>NaN</td>\n",
              "      <td>NaN</td>\n",
              "      <td>NaN</td>\n",
              "      <td>NaN</td>\n",
              "      <td>...</td>\n",
              "      <td>-0.323487</td>\n",
              "      <td>0.632731</td>\n",
              "      <td>2.541558</td>\n",
              "      <td>3.017482</td>\n",
              "      <td>0.033394</td>\n",
              "      <td>0.019972</td>\n",
              "      <td>0.578428</td>\n",
              "      <td>0</td>\n",
              "      <td>0</td>\n",
              "      <td>0</td>\n",
              "    </tr>\n",
              "    <tr>\n",
              "      <th>3</th>\n",
              "      <td>3</td>\n",
              "      <td>-0.479407</td>\n",
              "      <td>NaN</td>\n",
              "      <td>0.356677</td>\n",
              "      <td>NaN</td>\n",
              "      <td>-0.332867</td>\n",
              "      <td>NaN</td>\n",
              "      <td>-0.704164</td>\n",
              "      <td>NaN</td>\n",
              "      <td>0.905748</td>\n",
              "      <td>...</td>\n",
              "      <td>-0.323487</td>\n",
              "      <td>-0.003549</td>\n",
              "      <td>-0.219016</td>\n",
              "      <td>0.228624</td>\n",
              "      <td>-0.428185</td>\n",
              "      <td>-0.220932</td>\n",
              "      <td>-0.596108</td>\n",
              "      <td>0</td>\n",
              "      <td>0</td>\n",
              "      <td>0</td>\n",
              "    </tr>\n",
              "    <tr>\n",
              "      <th>4</th>\n",
              "      <td>4</td>\n",
              "      <td>-1.503690</td>\n",
              "      <td>NaN</td>\n",
              "      <td>NaN</td>\n",
              "      <td>NaN</td>\n",
              "      <td>NaN</td>\n",
              "      <td>NaN</td>\n",
              "      <td>NaN</td>\n",
              "      <td>NaN</td>\n",
              "      <td>NaN</td>\n",
              "      <td>...</td>\n",
              "      <td>-0.323487</td>\n",
              "      <td>0.182726</td>\n",
              "      <td>-0.287299</td>\n",
              "      <td>-0.528921</td>\n",
              "      <td>-0.563335</td>\n",
              "      <td>-0.021506</td>\n",
              "      <td>-0.361201</td>\n",
              "      <td>0</td>\n",
              "      <td>0</td>\n",
              "      <td>0</td>\n",
              "    </tr>\n",
              "    <tr>\n",
              "      <th>...</th>\n",
              "      <td>...</td>\n",
              "      <td>...</td>\n",
              "      <td>...</td>\n",
              "      <td>...</td>\n",
              "      <td>...</td>\n",
              "      <td>...</td>\n",
              "      <td>...</td>\n",
              "      <td>...</td>\n",
              "      <td>...</td>\n",
              "      <td>...</td>\n",
              "      <td>...</td>\n",
              "      <td>...</td>\n",
              "      <td>...</td>\n",
              "      <td>...</td>\n",
              "      <td>...</td>\n",
              "      <td>...</td>\n",
              "      <td>...</td>\n",
              "      <td>...</td>\n",
              "      <td>...</td>\n",
              "      <td>...</td>\n",
              "      <td>...</td>\n",
              "    </tr>\n",
              "    <tr>\n",
              "      <th>299995</th>\n",
              "      <td>299995</td>\n",
              "      <td>0.140494</td>\n",
              "      <td>NaN</td>\n",
              "      <td>NaN</td>\n",
              "      <td>NaN</td>\n",
              "      <td>NaN</td>\n",
              "      <td>NaN</td>\n",
              "      <td>NaN</td>\n",
              "      <td>NaN</td>\n",
              "      <td>NaN</td>\n",
              "      <td>...</td>\n",
              "      <td>0.082114</td>\n",
              "      <td>0.276906</td>\n",
              "      <td>0.346755</td>\n",
              "      <td>1.535162</td>\n",
              "      <td>0.718633</td>\n",
              "      <td>-0.242059</td>\n",
              "      <td>-0.047991</td>\n",
              "      <td>0</td>\n",
              "      <td>0</td>\n",
              "      <td>0</td>\n",
              "    </tr>\n",
              "    <tr>\n",
              "      <th>299996</th>\n",
              "      <td>299996</td>\n",
              "      <td>-0.578334</td>\n",
              "      <td>NaN</td>\n",
              "      <td>-0.773909</td>\n",
              "      <td>NaN</td>\n",
              "      <td>0.182200</td>\n",
              "      <td>NaN</td>\n",
              "      <td>-0.690771</td>\n",
              "      <td>NaN</td>\n",
              "      <td>-0.519096</td>\n",
              "      <td>...</td>\n",
              "      <td>-0.323487</td>\n",
              "      <td>-0.264553</td>\n",
              "      <td>-0.316563</td>\n",
              "      <td>-0.472916</td>\n",
              "      <td>-0.053175</td>\n",
              "      <td>0.222753</td>\n",
              "      <td>-0.596108</td>\n",
              "      <td>0</td>\n",
              "      <td>0</td>\n",
              "      <td>0</td>\n",
              "    </tr>\n",
              "    <tr>\n",
              "      <th>299997</th>\n",
              "      <td>299997</td>\n",
              "      <td>2.052711</td>\n",
              "      <td>NaN</td>\n",
              "      <td>NaN</td>\n",
              "      <td>NaN</td>\n",
              "      <td>NaN</td>\n",
              "      <td>NaN</td>\n",
              "      <td>NaN</td>\n",
              "      <td>NaN</td>\n",
              "      <td>NaN</td>\n",
              "      <td>...</td>\n",
              "      <td>-0.323487</td>\n",
              "      <td>0.139359</td>\n",
              "      <td>-0.316563</td>\n",
              "      <td>-0.768966</td>\n",
              "      <td>-0.115407</td>\n",
              "      <td>-0.054465</td>\n",
              "      <td>-0.047991</td>\n",
              "      <td>0</td>\n",
              "      <td>0</td>\n",
              "      <td>0</td>\n",
              "    </tr>\n",
              "    <tr>\n",
              "      <th>299998</th>\n",
              "      <td>299998</td>\n",
              "      <td>1.051685</td>\n",
              "      <td>NaN</td>\n",
              "      <td>NaN</td>\n",
              "      <td>NaN</td>\n",
              "      <td>NaN</td>\n",
              "      <td>NaN</td>\n",
              "      <td>NaN</td>\n",
              "      <td>NaN</td>\n",
              "      <td>NaN</td>\n",
              "      <td>...</td>\n",
              "      <td>-0.188287</td>\n",
              "      <td>-0.122459</td>\n",
              "      <td>-0.316563</td>\n",
              "      <td>-0.317586</td>\n",
              "      <td>0.829699</td>\n",
              "      <td>-0.416806</td>\n",
              "      <td>-0.596108</td>\n",
              "      <td>0</td>\n",
              "      <td>1</td>\n",
              "      <td>1</td>\n",
              "    </tr>\n",
              "    <tr>\n",
              "      <th>299999</th>\n",
              "      <td>299999</td>\n",
              "      <td>-0.642357</td>\n",
              "      <td>NaN</td>\n",
              "      <td>NaN</td>\n",
              "      <td>NaN</td>\n",
              "      <td>NaN</td>\n",
              "      <td>NaN</td>\n",
              "      <td>NaN</td>\n",
              "      <td>NaN</td>\n",
              "      <td>NaN</td>\n",
              "      <td>...</td>\n",
              "      <td>-0.323487</td>\n",
              "      <td>-0.253432</td>\n",
              "      <td>-0.267790</td>\n",
              "      <td>-0.269303</td>\n",
              "      <td>0.615901</td>\n",
              "      <td>-0.213982</td>\n",
              "      <td>-0.047991</td>\n",
              "      <td>0</td>\n",
              "      <td>0</td>\n",
              "      <td>0</td>\n",
              "    </tr>\n",
              "  </tbody>\n",
              "</table>\n",
              "<p>300000 rows × 103 columns</p>\n",
              "</div>\n",
              "    <div class=\"colab-df-buttons\">\n",
              "\n",
              "  <div class=\"colab-df-container\">\n",
              "    <button class=\"colab-df-convert\" onclick=\"convertToInteractive('df-b2501984-8019-4f64-bcf3-2650f3db1f52')\"\n",
              "            title=\"Convert this dataframe to an interactive table.\"\n",
              "            style=\"display:none;\">\n",
              "\n",
              "  <svg xmlns=\"http://www.w3.org/2000/svg\" height=\"24px\" viewBox=\"0 -960 960 960\">\n",
              "    <path d=\"M120-120v-720h720v720H120Zm60-500h600v-160H180v160Zm220 220h160v-160H400v160Zm0 220h160v-160H400v160ZM180-400h160v-160H180v160Zm440 0h160v-160H620v160ZM180-180h160v-160H180v160Zm440 0h160v-160H620v160Z\"/>\n",
              "  </svg>\n",
              "    </button>\n",
              "\n",
              "  <style>\n",
              "    .colab-df-container {\n",
              "      display:flex;\n",
              "      gap: 12px;\n",
              "    }\n",
              "\n",
              "    .colab-df-convert {\n",
              "      background-color: #E8F0FE;\n",
              "      border: none;\n",
              "      border-radius: 50%;\n",
              "      cursor: pointer;\n",
              "      display: none;\n",
              "      fill: #1967D2;\n",
              "      height: 32px;\n",
              "      padding: 0 0 0 0;\n",
              "      width: 32px;\n",
              "    }\n",
              "\n",
              "    .colab-df-convert:hover {\n",
              "      background-color: #E2EBFA;\n",
              "      box-shadow: 0px 1px 2px rgba(60, 64, 67, 0.3), 0px 1px 3px 1px rgba(60, 64, 67, 0.15);\n",
              "      fill: #174EA6;\n",
              "    }\n",
              "\n",
              "    .colab-df-buttons div {\n",
              "      margin-bottom: 4px;\n",
              "    }\n",
              "\n",
              "    [theme=dark] .colab-df-convert {\n",
              "      background-color: #3B4455;\n",
              "      fill: #D2E3FC;\n",
              "    }\n",
              "\n",
              "    [theme=dark] .colab-df-convert:hover {\n",
              "      background-color: #434B5C;\n",
              "      box-shadow: 0px 1px 3px 1px rgba(0, 0, 0, 0.15);\n",
              "      filter: drop-shadow(0px 1px 2px rgba(0, 0, 0, 0.3));\n",
              "      fill: #FFFFFF;\n",
              "    }\n",
              "  </style>\n",
              "\n",
              "    <script>\n",
              "      const buttonEl =\n",
              "        document.querySelector('#df-b2501984-8019-4f64-bcf3-2650f3db1f52 button.colab-df-convert');\n",
              "      buttonEl.style.display =\n",
              "        google.colab.kernel.accessAllowed ? 'block' : 'none';\n",
              "\n",
              "      async function convertToInteractive(key) {\n",
              "        const element = document.querySelector('#df-b2501984-8019-4f64-bcf3-2650f3db1f52');\n",
              "        const dataTable =\n",
              "          await google.colab.kernel.invokeFunction('convertToInteractive',\n",
              "                                                    [key], {});\n",
              "        if (!dataTable) return;\n",
              "\n",
              "        const docLinkHtml = 'Like what you see? Visit the ' +\n",
              "          '<a target=\"_blank\" href=https://colab.research.google.com/notebooks/data_table.ipynb>data table notebook</a>'\n",
              "          + ' to learn more about interactive tables.';\n",
              "        element.innerHTML = '';\n",
              "        dataTable['output_type'] = 'display_data';\n",
              "        await google.colab.output.renderOutput(dataTable, element);\n",
              "        const docLink = document.createElement('div');\n",
              "        docLink.innerHTML = docLinkHtml;\n",
              "        element.appendChild(docLink);\n",
              "      }\n",
              "    </script>\n",
              "  </div>\n",
              "\n",
              "\n",
              "<div id=\"df-d4c59b0e-0139-4662-afa6-4c6eba6591b0\">\n",
              "  <button class=\"colab-df-quickchart\" onclick=\"quickchart('df-d4c59b0e-0139-4662-afa6-4c6eba6591b0')\"\n",
              "            title=\"Suggest charts.\"\n",
              "            style=\"display:none;\">\n",
              "\n",
              "<svg xmlns=\"http://www.w3.org/2000/svg\" height=\"24px\"viewBox=\"0 0 24 24\"\n",
              "     width=\"24px\">\n",
              "    <g>\n",
              "        <path d=\"M19 3H5c-1.1 0-2 .9-2 2v14c0 1.1.9 2 2 2h14c1.1 0 2-.9 2-2V5c0-1.1-.9-2-2-2zM9 17H7v-7h2v7zm4 0h-2V7h2v10zm4 0h-2v-4h2v4z\"/>\n",
              "    </g>\n",
              "</svg>\n",
              "  </button>\n",
              "\n",
              "<style>\n",
              "  .colab-df-quickchart {\n",
              "      --bg-color: #E8F0FE;\n",
              "      --fill-color: #1967D2;\n",
              "      --hover-bg-color: #E2EBFA;\n",
              "      --hover-fill-color: #174EA6;\n",
              "      --disabled-fill-color: #AAA;\n",
              "      --disabled-bg-color: #DDD;\n",
              "  }\n",
              "\n",
              "  [theme=dark] .colab-df-quickchart {\n",
              "      --bg-color: #3B4455;\n",
              "      --fill-color: #D2E3FC;\n",
              "      --hover-bg-color: #434B5C;\n",
              "      --hover-fill-color: #FFFFFF;\n",
              "      --disabled-bg-color: #3B4455;\n",
              "      --disabled-fill-color: #666;\n",
              "  }\n",
              "\n",
              "  .colab-df-quickchart {\n",
              "    background-color: var(--bg-color);\n",
              "    border: none;\n",
              "    border-radius: 50%;\n",
              "    cursor: pointer;\n",
              "    display: none;\n",
              "    fill: var(--fill-color);\n",
              "    height: 32px;\n",
              "    padding: 0;\n",
              "    width: 32px;\n",
              "  }\n",
              "\n",
              "  .colab-df-quickchart:hover {\n",
              "    background-color: var(--hover-bg-color);\n",
              "    box-shadow: 0 1px 2px rgba(60, 64, 67, 0.3), 0 1px 3px 1px rgba(60, 64, 67, 0.15);\n",
              "    fill: var(--button-hover-fill-color);\n",
              "  }\n",
              "\n",
              "  .colab-df-quickchart-complete:disabled,\n",
              "  .colab-df-quickchart-complete:disabled:hover {\n",
              "    background-color: var(--disabled-bg-color);\n",
              "    fill: var(--disabled-fill-color);\n",
              "    box-shadow: none;\n",
              "  }\n",
              "\n",
              "  .colab-df-spinner {\n",
              "    border: 2px solid var(--fill-color);\n",
              "    border-color: transparent;\n",
              "    border-bottom-color: var(--fill-color);\n",
              "    animation:\n",
              "      spin 1s steps(1) infinite;\n",
              "  }\n",
              "\n",
              "  @keyframes spin {\n",
              "    0% {\n",
              "      border-color: transparent;\n",
              "      border-bottom-color: var(--fill-color);\n",
              "      border-left-color: var(--fill-color);\n",
              "    }\n",
              "    20% {\n",
              "      border-color: transparent;\n",
              "      border-left-color: var(--fill-color);\n",
              "      border-top-color: var(--fill-color);\n",
              "    }\n",
              "    30% {\n",
              "      border-color: transparent;\n",
              "      border-left-color: var(--fill-color);\n",
              "      border-top-color: var(--fill-color);\n",
              "      border-right-color: var(--fill-color);\n",
              "    }\n",
              "    40% {\n",
              "      border-color: transparent;\n",
              "      border-right-color: var(--fill-color);\n",
              "      border-top-color: var(--fill-color);\n",
              "    }\n",
              "    60% {\n",
              "      border-color: transparent;\n",
              "      border-right-color: var(--fill-color);\n",
              "    }\n",
              "    80% {\n",
              "      border-color: transparent;\n",
              "      border-right-color: var(--fill-color);\n",
              "      border-bottom-color: var(--fill-color);\n",
              "    }\n",
              "    90% {\n",
              "      border-color: transparent;\n",
              "      border-bottom-color: var(--fill-color);\n",
              "    }\n",
              "  }\n",
              "</style>\n",
              "\n",
              "  <script>\n",
              "    async function quickchart(key) {\n",
              "      const quickchartButtonEl =\n",
              "        document.querySelector('#' + key + ' button');\n",
              "      quickchartButtonEl.disabled = true;  // To prevent multiple clicks.\n",
              "      quickchartButtonEl.classList.add('colab-df-spinner');\n",
              "      try {\n",
              "        const charts = await google.colab.kernel.invokeFunction(\n",
              "            'suggestCharts', [key], {});\n",
              "      } catch (error) {\n",
              "        console.error('Error during call to suggestCharts:', error);\n",
              "      }\n",
              "      quickchartButtonEl.classList.remove('colab-df-spinner');\n",
              "      quickchartButtonEl.classList.add('colab-df-quickchart-complete');\n",
              "    }\n",
              "    (() => {\n",
              "      let quickchartButtonEl =\n",
              "        document.querySelector('#df-d4c59b0e-0139-4662-afa6-4c6eba6591b0 button');\n",
              "      quickchartButtonEl.style.display =\n",
              "        google.colab.kernel.accessAllowed ? 'block' : 'none';\n",
              "    })();\n",
              "  </script>\n",
              "</div>\n",
              "    </div>\n",
              "  </div>\n"
            ]
          },
          "metadata": {},
          "execution_count": 214
        }
      ]
    },
    {
      "cell_type": "code",
      "source": [
        "# train_df.channel_code = pd.Categorical(train_df.channel_code)\n",
        "# # train_df['code1'] = train_df.channel_code.cat.codes\n",
        "train_df.city = pd.Categorical(train_df.city)\n",
        "train_df['code2'] = train_df.city.cat.codes\n",
        "train_df.city_type = pd.Categorical(train_df.city_type)\n",
        "train_df['code3'] = train_df.city_type.cat.codes\n",
        "# # #train_df.index_city_code = pd.Categorical(train_df.index_city_code)\n",
        "# # #train_df['code4'] = train_df.index_city_code.cat.codes\n",
        "train_df.ogrn_month = pd.Categorical(train_df.ogrn_month)\n",
        "train_df['code5'] = train_df.ogrn_month.cat.codes\n",
        "# train_df.ogrn_year = pd.Categorical(train_df.ogrn_year)\n",
        "# train_df['code6'] = train_df.ogrn_year.cat.codes\n",
        "train_df.branch_code = pd.Categorical(train_df.branch_code)\n",
        "train_df['code7'] = train_df.branch_code.cat.codes\n",
        "train_df.okved = pd.Categorical(train_df.okved)\n",
        "train_df['code8'] = train_df.okved.cat.codes\n",
        "train_df.segment = pd.Categorical(train_df.segment)\n",
        "train_df['code9'] = train_df.segment.cat.codes"
      ],
      "metadata": {
        "id": "5kMXTst18fd1"
      },
      "execution_count": null,
      "outputs": []
    },
    {
      "cell_type": "code",
      "source": [
        "a = []\n",
        "for i in train_df.columns:\n",
        "  if train_df.dtypes[i] == 'object':\n",
        "    a.append(i)\n",
        "    print(i)\n",
        "train_df.drop(a, axis=1, inplace=True)\n",
        "\n",
        "nulls = train_df.isnull().sum()/len(train_df)*100\n",
        "for i in train_df.columns:\n",
        "    median = train_df[i].median()\n",
        "    train_df[i].fillna(median, inplace=True)"
      ],
      "metadata": {
        "colab": {
          "base_uri": "https://localhost:8080/",
          "height": 425
        },
        "id": "zRtOdswvYVP2",
        "outputId": "ac1798ac-8547-48ef-f88f-bdb7156f6562"
      },
      "execution_count": null,
      "outputs": [
        {
          "output_type": "stream",
          "name": "stdout",
          "text": [
            "channel_code\n",
            "index_city_code\n",
            "ogrn_year\n"
          ]
        },
        {
          "output_type": "error",
          "ename": "TypeError",
          "evalue": "ignored",
          "traceback": [
            "\u001b[0;31m---------------------------------------------------------------------------\u001b[0m",
            "\u001b[0;31mTypeError\u001b[0m                                 Traceback (most recent call last)",
            "\u001b[0;32m<ipython-input-217-49b49f30aa0f>\u001b[0m in \u001b[0;36m<cell line: 9>\u001b[0;34m()\u001b[0m\n\u001b[1;32m      8\u001b[0m \u001b[0mnulls\u001b[0m \u001b[0;34m=\u001b[0m \u001b[0mtrain_df\u001b[0m\u001b[0;34m.\u001b[0m\u001b[0misnull\u001b[0m\u001b[0;34m(\u001b[0m\u001b[0;34m)\u001b[0m\u001b[0;34m.\u001b[0m\u001b[0msum\u001b[0m\u001b[0;34m(\u001b[0m\u001b[0;34m)\u001b[0m\u001b[0;34m/\u001b[0m\u001b[0mlen\u001b[0m\u001b[0;34m(\u001b[0m\u001b[0mtrain_df\u001b[0m\u001b[0;34m)\u001b[0m\u001b[0;34m*\u001b[0m\u001b[0;36m100\u001b[0m\u001b[0;34m\u001b[0m\u001b[0;34m\u001b[0m\u001b[0m\n\u001b[1;32m      9\u001b[0m \u001b[0;32mfor\u001b[0m \u001b[0mi\u001b[0m \u001b[0;32min\u001b[0m \u001b[0mtrain_df\u001b[0m\u001b[0;34m.\u001b[0m\u001b[0mcolumns\u001b[0m\u001b[0;34m:\u001b[0m\u001b[0;34m\u001b[0m\u001b[0;34m\u001b[0m\u001b[0m\n\u001b[0;32m---> 10\u001b[0;31m     \u001b[0mmedian\u001b[0m \u001b[0;34m=\u001b[0m \u001b[0mtrain_df\u001b[0m\u001b[0;34m[\u001b[0m\u001b[0mi\u001b[0m\u001b[0;34m]\u001b[0m\u001b[0;34m.\u001b[0m\u001b[0mmedian\u001b[0m\u001b[0;34m(\u001b[0m\u001b[0;34m)\u001b[0m\u001b[0;34m\u001b[0m\u001b[0;34m\u001b[0m\u001b[0m\n\u001b[0m\u001b[1;32m     11\u001b[0m     \u001b[0mtrain_df\u001b[0m\u001b[0;34m[\u001b[0m\u001b[0mi\u001b[0m\u001b[0;34m]\u001b[0m\u001b[0;34m.\u001b[0m\u001b[0mfillna\u001b[0m\u001b[0;34m(\u001b[0m\u001b[0mmedian\u001b[0m\u001b[0;34m,\u001b[0m \u001b[0minplace\u001b[0m\u001b[0;34m=\u001b[0m\u001b[0;32mTrue\u001b[0m\u001b[0;34m)\u001b[0m\u001b[0;34m\u001b[0m\u001b[0;34m\u001b[0m\u001b[0m\n",
            "\u001b[0;32m/usr/local/lib/python3.10/dist-packages/pandas/core/generic.py\u001b[0m in \u001b[0;36mmedian\u001b[0;34m(self, axis, skipna, level, numeric_only, **kwargs)\u001b[0m\n\u001b[1;32m  11915\u001b[0m             \u001b[0;34m**\u001b[0m\u001b[0mkwargs\u001b[0m\u001b[0;34m,\u001b[0m\u001b[0;34m\u001b[0m\u001b[0;34m\u001b[0m\u001b[0m\n\u001b[1;32m  11916\u001b[0m         ):\n\u001b[0;32m> 11917\u001b[0;31m             \u001b[0;32mreturn\u001b[0m \u001b[0mNDFrame\u001b[0m\u001b[0;34m.\u001b[0m\u001b[0mmedian\u001b[0m\u001b[0;34m(\u001b[0m\u001b[0mself\u001b[0m\u001b[0;34m,\u001b[0m \u001b[0maxis\u001b[0m\u001b[0;34m,\u001b[0m \u001b[0mskipna\u001b[0m\u001b[0;34m,\u001b[0m \u001b[0mlevel\u001b[0m\u001b[0;34m,\u001b[0m \u001b[0mnumeric_only\u001b[0m\u001b[0;34m,\u001b[0m \u001b[0;34m**\u001b[0m\u001b[0mkwargs\u001b[0m\u001b[0;34m)\u001b[0m\u001b[0;34m\u001b[0m\u001b[0;34m\u001b[0m\u001b[0m\n\u001b[0m\u001b[1;32m  11918\u001b[0m \u001b[0;34m\u001b[0m\u001b[0m\n\u001b[1;32m  11919\u001b[0m         \u001b[0msetattr\u001b[0m\u001b[0;34m(\u001b[0m\u001b[0mcls\u001b[0m\u001b[0;34m,\u001b[0m \u001b[0;34m\"median\"\u001b[0m\u001b[0;34m,\u001b[0m \u001b[0mmedian\u001b[0m\u001b[0;34m)\u001b[0m\u001b[0;34m\u001b[0m\u001b[0;34m\u001b[0m\u001b[0m\n",
            "\u001b[0;32m/usr/local/lib/python3.10/dist-packages/pandas/core/generic.py\u001b[0m in \u001b[0;36mmedian\u001b[0;34m(self, axis, skipna, level, numeric_only, **kwargs)\u001b[0m\n\u001b[1;32m  11411\u001b[0m         \u001b[0;34m**\u001b[0m\u001b[0mkwargs\u001b[0m\u001b[0;34m,\u001b[0m\u001b[0;34m\u001b[0m\u001b[0;34m\u001b[0m\u001b[0m\n\u001b[1;32m  11412\u001b[0m     ) -> Series | float:\n\u001b[0;32m> 11413\u001b[0;31m         return self._stat_function(\n\u001b[0m\u001b[1;32m  11414\u001b[0m             \u001b[0;34m\"median\"\u001b[0m\u001b[0;34m,\u001b[0m \u001b[0mnanops\u001b[0m\u001b[0;34m.\u001b[0m\u001b[0mnanmedian\u001b[0m\u001b[0;34m,\u001b[0m \u001b[0maxis\u001b[0m\u001b[0;34m,\u001b[0m \u001b[0mskipna\u001b[0m\u001b[0;34m,\u001b[0m \u001b[0mlevel\u001b[0m\u001b[0;34m,\u001b[0m \u001b[0mnumeric_only\u001b[0m\u001b[0;34m,\u001b[0m \u001b[0;34m**\u001b[0m\u001b[0mkwargs\u001b[0m\u001b[0;34m\u001b[0m\u001b[0;34m\u001b[0m\u001b[0m\n\u001b[1;32m  11415\u001b[0m         )\n",
            "\u001b[0;32m/usr/local/lib/python3.10/dist-packages/pandas/core/generic.py\u001b[0m in \u001b[0;36m_stat_function\u001b[0;34m(self, name, func, axis, skipna, level, numeric_only, **kwargs)\u001b[0m\n\u001b[1;32m  11351\u001b[0m                 \u001b[0mname\u001b[0m\u001b[0;34m,\u001b[0m \u001b[0maxis\u001b[0m\u001b[0;34m=\u001b[0m\u001b[0maxis\u001b[0m\u001b[0;34m,\u001b[0m \u001b[0mlevel\u001b[0m\u001b[0;34m=\u001b[0m\u001b[0mlevel\u001b[0m\u001b[0;34m,\u001b[0m \u001b[0mskipna\u001b[0m\u001b[0;34m=\u001b[0m\u001b[0mskipna\u001b[0m\u001b[0;34m,\u001b[0m \u001b[0mnumeric_only\u001b[0m\u001b[0;34m=\u001b[0m\u001b[0mnumeric_only\u001b[0m\u001b[0;34m\u001b[0m\u001b[0;34m\u001b[0m\u001b[0m\n\u001b[1;32m  11352\u001b[0m             )\n\u001b[0;32m> 11353\u001b[0;31m         return self._reduce(\n\u001b[0m\u001b[1;32m  11354\u001b[0m             \u001b[0mfunc\u001b[0m\u001b[0;34m,\u001b[0m \u001b[0mname\u001b[0m\u001b[0;34m=\u001b[0m\u001b[0mname\u001b[0m\u001b[0;34m,\u001b[0m \u001b[0maxis\u001b[0m\u001b[0;34m=\u001b[0m\u001b[0maxis\u001b[0m\u001b[0;34m,\u001b[0m \u001b[0mskipna\u001b[0m\u001b[0;34m=\u001b[0m\u001b[0mskipna\u001b[0m\u001b[0;34m,\u001b[0m \u001b[0mnumeric_only\u001b[0m\u001b[0;34m=\u001b[0m\u001b[0mnumeric_only\u001b[0m\u001b[0;34m\u001b[0m\u001b[0;34m\u001b[0m\u001b[0m\n\u001b[1;32m  11355\u001b[0m         )\n",
            "\u001b[0;32m/usr/local/lib/python3.10/dist-packages/pandas/core/series.py\u001b[0m in \u001b[0;36m_reduce\u001b[0;34m(self, op, name, axis, skipna, numeric_only, filter_type, **kwds)\u001b[0m\n\u001b[1;32m   4795\u001b[0m         \u001b[0;32mif\u001b[0m \u001b[0misinstance\u001b[0m\u001b[0;34m(\u001b[0m\u001b[0mdelegate\u001b[0m\u001b[0;34m,\u001b[0m \u001b[0mExtensionArray\u001b[0m\u001b[0;34m)\u001b[0m\u001b[0;34m:\u001b[0m\u001b[0;34m\u001b[0m\u001b[0;34m\u001b[0m\u001b[0m\n\u001b[1;32m   4796\u001b[0m             \u001b[0;31m# dispatch to ExtensionArray interface\u001b[0m\u001b[0;34m\u001b[0m\u001b[0;34m\u001b[0m\u001b[0m\n\u001b[0;32m-> 4797\u001b[0;31m             \u001b[0;32mreturn\u001b[0m \u001b[0mdelegate\u001b[0m\u001b[0;34m.\u001b[0m\u001b[0m_reduce\u001b[0m\u001b[0;34m(\u001b[0m\u001b[0mname\u001b[0m\u001b[0;34m,\u001b[0m \u001b[0mskipna\u001b[0m\u001b[0;34m=\u001b[0m\u001b[0mskipna\u001b[0m\u001b[0;34m,\u001b[0m \u001b[0;34m**\u001b[0m\u001b[0mkwds\u001b[0m\u001b[0;34m)\u001b[0m\u001b[0;34m\u001b[0m\u001b[0;34m\u001b[0m\u001b[0m\n\u001b[0m\u001b[1;32m   4798\u001b[0m \u001b[0;34m\u001b[0m\u001b[0m\n\u001b[1;32m   4799\u001b[0m         \u001b[0;32melse\u001b[0m\u001b[0;34m:\u001b[0m\u001b[0;34m\u001b[0m\u001b[0;34m\u001b[0m\u001b[0m\n",
            "\u001b[0;32m/usr/local/lib/python3.10/dist-packages/pandas/core/arrays/base.py\u001b[0m in \u001b[0;36m_reduce\u001b[0;34m(self, name, skipna, **kwargs)\u001b[0m\n\u001b[1;32m   1433\u001b[0m         \u001b[0mmeth\u001b[0m \u001b[0;34m=\u001b[0m \u001b[0mgetattr\u001b[0m\u001b[0;34m(\u001b[0m\u001b[0mself\u001b[0m\u001b[0;34m,\u001b[0m \u001b[0mname\u001b[0m\u001b[0;34m,\u001b[0m \u001b[0;32mNone\u001b[0m\u001b[0;34m)\u001b[0m\u001b[0;34m\u001b[0m\u001b[0;34m\u001b[0m\u001b[0m\n\u001b[1;32m   1434\u001b[0m         \u001b[0;32mif\u001b[0m \u001b[0mmeth\u001b[0m \u001b[0;32mis\u001b[0m \u001b[0;32mNone\u001b[0m\u001b[0;34m:\u001b[0m\u001b[0;34m\u001b[0m\u001b[0;34m\u001b[0m\u001b[0m\n\u001b[0;32m-> 1435\u001b[0;31m             raise TypeError(\n\u001b[0m\u001b[1;32m   1436\u001b[0m                 \u001b[0;34mf\"'{type(self).__name__}' with dtype {self.dtype} \"\u001b[0m\u001b[0;34m\u001b[0m\u001b[0;34m\u001b[0m\u001b[0m\n\u001b[1;32m   1437\u001b[0m                 \u001b[0;34mf\"does not support reduction '{name}'\"\u001b[0m\u001b[0;34m\u001b[0m\u001b[0;34m\u001b[0m\u001b[0m\n",
            "\u001b[0;31mTypeError\u001b[0m: 'Categorical' with dtype category does not support reduction 'median'"
          ]
        }
      ]
    },
    {
      "cell_type": "code",
      "source": [
        "import matplotlib.pyplot as plt\n",
        "import seaborn as sns\n",
        "correlation_matrix = train_df.corr().abs()\n",
        "\n",
        "#Визуализируем матрицу корреляции с помощью тепловой карты\n",
        "plt.figure(figsize=(10, 8))\n",
        "sns.heatmap(correlation_matrix, annot=True, cmap='coolwarm', fmt='.2f', linewidths=0.5)\n",
        "plt.title('Матрица корреляции')\n",
        "plt.show()"
      ],
      "metadata": {
        "id": "AoIV4TA5kRHV"
      },
      "execution_count": null,
      "outputs": []
    },
    {
      "cell_type": "code",
      "source": [
        "s = correlation_matrix.unstack().abs()\n",
        "so = s.sort_values(kind=\"quicksort\")\n",
        "print(so[(so>0.9) & (so<0.99)].index)"
      ],
      "metadata": {
        "id": "tGJouqaeq2Y-"
      },
      "execution_count": null,
      "outputs": []
    },
    {
      "cell_type": "code",
      "source": [
        "train_df[\"result_of_cor_1\"] = train_df.cnt_cred_d_oper_3m * train_df.cnt_cred_d_oper_1m\n",
        "train_df[\"result_of_cor_2\"] = train_df.sum_cred_e_oper_1m * train_df.sum_deb_e_oper_1m\n",
        "train_df[\"result_of_cor_3\"] = train_df.cnt_days_deb_g_oper_3m * train_df.cnt_days_deb_g_oper_1m\n",
        "train_df[\"result_of_cor_4\"] = train_df.cnt_deb_h_oper_3m * train_df.cnt_deb_h_oper_1m\n",
        "train_df[\"result_of_cor_5\"] = train_df.cnt_cred_g_oper_3m * train_df.cnt_cred_g_oper_1m# - берем только 4 штуки т.к. результат лучше\n",
        "train_df[\"result_of_cor_6\"] = train_df.cnt_cred_f_oper_3m * train_df.cnt_cred_f_oper_1m\n",
        "train_df[\"result_of_cor_7\"] = train_df.ft_registration_date * train_df.ogrn_exist_months\n",
        "train_df[\"result_of_cor_8\"] = train_df.cnt_deb_f_oper_3m * train_df.cnt_cred_f_oper_1m\n",
        "train_df[\"result_of_cor_10\"] = train_df.cnt_cred_e_oper_3m * train_df.cnt_cred_e_oper_1m\n",
        "train_df[\"result_of_cor_11\"] = train_df.cnt_days_cred_h_oper_1m * train_df.cnt_days_cred_h_oper_3m\n",
        "train_df[\"result_of_cor_12\"] = train_df.cnt_cred_f_oper_1m * train_df.cnt_deb_f_oper_3m\n",
        "train_df[\"result_of_cor_13\"] = train_df.cnt_days_cred_f_oper_1m * train_df.cnt_deb_f_oper_1m\n",
        "train_df[\"result_of_cor_14\"] = train_df.cnt_cred_h_oper_1m * train_df.cnt_cred_h_oper_3m\n",
        "train_df[\"result_of_cor_15\"] = train_df.cnt_days_deb_f_oper_1m * train_df.cnt_cred_f_oper_3m\n"
      ],
      "metadata": {
        "id": "wuDvLPJUmRWh"
      },
      "execution_count": null,
      "outputs": []
    },
    {
      "cell_type": "code",
      "source": [
        "train_df\n"
      ],
      "metadata": {
        "id": "bqqxzOyG1eba"
      },
      "execution_count": null,
      "outputs": []
    },
    {
      "cell_type": "code",
      "source": [
        "for col in train_df.columns:\n",
        "    pct_missing = np.mean(train_df[col].isnull())\n",
        "    print('{} - {}%'.format(col, round(pct_missing*100)))"
      ],
      "metadata": {
        "id": "Y7SLiIL9Xh_K"
      },
      "execution_count": null,
      "outputs": []
    },
    {
      "cell_type": "code",
      "source": [
        "#train_df.hist(figsize=(40,40))"
      ],
      "metadata": {
        "id": "rIVRPWmiCkyW"
      },
      "execution_count": null,
      "outputs": []
    },
    {
      "cell_type": "code",
      "source": [
        "train_df.info()"
      ],
      "metadata": {
        "id": "eHgn3HoCZod-"
      },
      "execution_count": null,
      "outputs": []
    },
    {
      "cell_type": "code",
      "source": [
        "cat_cols = [\n",
        "    'channel_code', 'city', 'city_type',\n",
        "    'index_city_code', 'ogrn_month', 'ogrn_year',\n",
        "    'branch_code', 'okved', 'segment'\n",
        "]"
      ],
      "metadata": {
        "id": "giKn-ElWt9ji"
      },
      "execution_count": null,
      "outputs": []
    },
    {
      "cell_type": "code",
      "source": [
        "train_df[cat_cols] = train_df[cat_cols].astype(\"category\")"
      ],
      "metadata": {
        "id": "5kP6C8VI0D2a"
      },
      "execution_count": null,
      "outputs": []
    },
    {
      "cell_type": "code",
      "source": [
        "num_rows = len(train_df.index)\n",
        "low_information_cols = [] #\n",
        "\n",
        "for col in train_df.columns:\n",
        "    cnts = train_df[col].value_counts(dropna=False)\n",
        "    top_pct = (cnts/num_rows).iloc[0]\n",
        "\n",
        "    if top_pct > 0.95:\n",
        "        low_information_cols.append(col)\n",
        "        print('{0}: {1:.5f}%'.format(col, top_pct*100))\n",
        "        print(cnts)\n",
        "        print()"
      ],
      "metadata": {
        "id": "7zgE6-odehPc"
      },
      "execution_count": null,
      "outputs": []
    },
    {
      "cell_type": "code",
      "source": [
        " train_df.drop([\"id\",\"target_1\", \"target_2\"], axis=1, inplace=True)"
      ],
      "metadata": {
        "id": "uIECgUrSt0Lb"
      },
      "execution_count": null,
      "outputs": []
    },
    {
      "cell_type": "code",
      "source": [
        "train_df.drop([\n",
        "#'rko_start_months',\n",
        "'max_end_fact_fin_deals',\n",
        "'max_end_plan_non_fin_deals',\n",
        "'max_start_fin_deals',\n",
        "'max_start_non_fin_deals',\n",
        "'min_end_fact_fin_deals',\n",
        "'min_end_plan_non_fin_deals',\n",
        "'min_start_fin_deals',\n",
        "'min_start_non_fin_deals',\n",
        "#'balance_amt_avg',\n",
        "#'balance_amt_max',\n",
        "#'balance_amt_min',\n",
        "#'balance_amt_day_avg',\n",
        "#'channel_code',\n",
        "'city',\n",
        "'city_type',\n",
        "'index_city_code',\n",
        "#'ogrn_days_end_month',\n",
        "#'ogrn_days_end_quarter',\n",
        "#'ogrn_month',\n",
        "#'ogrn_year',\n",
        "#'branch_code',\n",
        " #   'ft_registration_date', ////\n",
        "'max_founderpres',\n",
        "'min_founderpres',\n",
        "#'ogrn_exist_months',\n",
        "# 'okved',\n",
        "#'segment',\n",
        "#'sum_of_paym_2m',\n",
        "#'sum_of_paym_6m',\n",
        "#'sum_of_paym_1y',\n",
        "#'sum_a_oper_1m',\n",
        "#'cnt_a_oper_1m',\n",
        "'sum_b_oper_1m',\n",
        "#'cnt_b_oper_1m',\n",
        "#'sum_c_oper_1m',\n",
        "#'cnt_c_oper_1m',\n",
        "#'sum_deb_d_oper_1m',\n",
        "#'cnt_deb_d_oper_1m',\n",
        "#'sum_cred_d_oper_1m',\n",
        "#'cnt_cred_d_oper_1m',\n",
        "#'sum_deb_e_oper_1m',\n",
        "#'cnt_deb_e_oper_1m',\n",
        "#'cnt_days_deb_e_oper_1m' //////////////\n",
        "#'sum_cred_e_oper_1m',\n",
        "#'cnt_cred_e_oper_1m',\n",
        "#'cnt_days_cred_e_oper_1m', ////////////\n",
        "#'sum_deb_f_oper_1m',\n",
        "#'cnt_deb_f_oper_1m',\n",
        "#'cnt_days_deb_f_oper_1m',\n",
        "'sum_cred_f_oper_1m',\n",
        "#'cnt_cred_f_oper_1m',\n",
        "#'cnt_days_cred_f_oper_1m',\n",
        "#'sum_deb_g_oper_1m',\n",
        "#'cnt_deb_g_oper_1m',\n",
        "#'cnt_days_deb_g_oper_1m',\n",
        "#'sum_cred_g_oper_1m',\n",
        "#'cnt_cred_g_oper_1m',\n",
        "#'cnt_days_cred_g_oper_1m',\n",
        "#'sum_deb_h_oper_1m',\n",
        "#'cnt_deb_h_oper_1m',\n",
        "#'cnt_days_deb_h_oper_1m',\n",
        "#'sum_cred_h_oper_1m',\n",
        "#'cnt_cred_h_oper_1m',\n",
        "#'cnt_days_cred_h_oper_1m',\n",
        "#'sum_a_oper_3m',\n",
        "#'cnt_a_oper_3m',\n",
        "'sum_b_oper_3m',\n",
        "'cnt_b_oper_3m',\n",
        "#'sum_c_oper_3m',\n",
        "#'cnt_c_oper_3m',\n",
        "#'sum_deb_d_oper_3m',\n",
        "#'cnt_deb_d_oper_3m',\n",
        "#'sum_cred_d_oper_3m',\n",
        "#'cnt_cred_d_oper_3m',\n",
        "#'sum_deb_e_oper_3m',\n",
        "#'cnt_deb_e_oper_3m',\n",
        "#'cnt_days_deb_e_oper_3m', ///////////\n",
        "#'sum_cred_e_oper_3m',\n",
        "#'cnt_cred_e_oper_3m',\n",
        "#'cnt_days_cred_e_oper_3m', //////////\n",
        "#'sum_deb_f_oper_3m',\n",
        "#'cnt_deb_f_oper_3m',\n",
        "#'cnt_days_deb_f_oper_3m',\n",
        "#'sum_cred_f_oper_3m',\n",
        "#'cnt_cred_f_oper_3m',\n",
        "#'cnt_days_cred_f_oper_3m',\n",
        "#'sum_deb_g_oper_3m',\n",
        "#'cnt_deb_g_oper_3m',\n",
        "#'cnt_days_deb_g_oper_3m',\n",
        "#'sum_cred_g_oper_3m',\n",
        "#'cnt_cred_g_oper_3m',\n",
        "#'cnt_days_cred_g_oper_3m',\n",
        "#'sum_deb_h_oper_3m',\n",
        "#'cnt_deb_h_oper_3m',\n",
        "#'cnt_days_deb_h_oper_3m'\n",
        "#'sum_cred_h_oper_3m',\n",
        "#'cnt_cred_h_oper_3m',\n",
        "#'cnt_days_cred_h_oper_3m', ///////////\n",
        "], axis=1, inplace=True)"
      ],
      "metadata": {
        "id": "5YU4r3sWJC6-"
      },
      "execution_count": null,
      "outputs": []
    },
    {
      "cell_type": "code",
      "source": [
        "X = train_df.drop(\"total_target\", axis=1)\n",
        "y = train_df.total_target\n",
        "x_train, x_val, y_train, y_val = train_test_split(X, y,\n",
        "                                                  test_size=0.2,\n",
        "                                                  random_state=42)"
      ],
      "metadata": {
        "id": "RlPMVbcDu72z"
      },
      "execution_count": null,
      "outputs": []
    },
    {
      "cell_type": "code",
      "source": [
        "test_df = pd.read_parquet('test.parquet', engine='fastparquet')"
      ],
      "metadata": {
        "id": "yJlqG26IdOt9"
      },
      "execution_count": null,
      "outputs": []
    },
    {
      "cell_type": "code",
      "source": [
        "# test_df.channel_code = pd.Categorical(test_df.channel_code)\n",
        "# test_df['code1'] = test_df.channel_code.cat.codes\n",
        "test_df.city = pd.Categorical(test_df.city)\n",
        "test_df['code2'] = test_df.city.cat.codes\n",
        "test_df.city_type = pd.Categorical(test_df.city_type)\n",
        "test_df['code3'] = test_df.city_type.cat.codes\n",
        "# # #test_df.index_city_code = pd.Categorical(test_df.index_city_code)\n",
        "# # #test_df['code4'] = test_df.index_city_code.cat.codes\n",
        "test_df.ogrn_month = pd.Categorical(test_df.ogrn_month)\n",
        "test_df['code5'] = test_df.ogrn_month.cat.codes\n",
        "# test_df.ogrn_year = pd.Categorical(test_df.ogrn_year)\n",
        "# test_df['code6'] = test_df.ogrn_year.cat.codes\n",
        "test_df.branch_code = pd.Categorical(test_df.branch_code)\n",
        "test_df['code7'] = test_df.branch_code.cat.codes\n",
        "test_df.okved = pd.Categorical(test_df.okved)\n",
        "test_df['code8'] = test_df.okved.cat.codes\n",
        "test_df.segment = pd.Categorical(test_df.segment)\n",
        "test_df['code9'] = test_df.segment.cat.codes"
      ],
      "metadata": {
        "id": "g8986FmO8RHy"
      },
      "execution_count": null,
      "outputs": []
    },
    {
      "cell_type": "code",
      "source": [
        "test_df[\"result_of_cor_1\"] = test_df.cnt_cred_d_oper_3m * test_df.cnt_cred_d_oper_1m\n",
        "test_df[\"result_of_cor_2\"] = test_df.sum_cred_e_oper_1m * test_df.sum_deb_e_oper_1m\n",
        "test_df[\"result_of_cor_3\"] = test_df.cnt_days_deb_g_oper_3m * test_df.cnt_days_deb_g_oper_1m\n",
        "test_df[\"result_of_cor_4\"] = test_df.cnt_deb_h_oper_3m * test_df.cnt_deb_h_oper_1m\n",
        "test_df[\"result_of_cor_5\"] = test_df.cnt_cred_g_oper_3m * test_df.cnt_cred_g_oper_1m# - берем только 4 штуки т.к. результат лучше\n",
        "test_df[\"result_of_cor_6\"] = test_df.cnt_cred_f_oper_3m * test_df.cnt_cred_f_oper_1m\n",
        "test_df[\"result_of_cor_7\"] = test_df.ft_registration_date * test_df.ogrn_exist_months\n",
        "test_df[\"result_of_cor_8\"] = test_df.cnt_deb_f_oper_3m * test_df.cnt_cred_f_oper_1m\n",
        "test_df[\"result_of_cor_10\"] = test_df.cnt_cred_e_oper_3m * test_df.cnt_cred_e_oper_1m\n",
        "test_df[\"result_of_cor_11\"] = test_df.cnt_days_cred_h_oper_1m * test_df.cnt_days_cred_h_oper_3m\n",
        "test_df[\"result_of_cor_12\"] = test_df.cnt_cred_f_oper_1m * test_df.cnt_deb_f_oper_3m\n",
        "test_df[\"result_of_cor_13\"] = test_df.cnt_days_cred_f_oper_1m * test_df.cnt_deb_f_oper_1m\n",
        "test_df[\"result_of_cor_14\"] = test_df.cnt_cred_h_oper_1m * test_df.cnt_cred_h_oper_3m\n",
        "test_df[\"result_of_cor_15\"] = test_df.cnt_days_deb_f_oper_1m * test_df.cnt_cred_f_oper_3m"
      ],
      "metadata": {
        "id": "XUIbVR-RAu-2"
      },
      "execution_count": null,
      "outputs": []
    },
    {
      "cell_type": "code",
      "source": [
        "test_df.info()"
      ],
      "metadata": {
        "id": "FXZ18NFpkfad"
      },
      "execution_count": null,
      "outputs": []
    },
    {
      "cell_type": "code",
      "source": [
        "test_df.head"
      ],
      "metadata": {
        "id": "kj7kZ7jeryAh"
      },
      "execution_count": null,
      "outputs": []
    },
    {
      "cell_type": "code",
      "source": [
        "#test_df.hist(figsize=(40,40))"
      ],
      "metadata": {
        "id": "epAZRTWflatD"
      },
      "execution_count": null,
      "outputs": []
    },
    {
      "cell_type": "code",
      "source": [
        "#test_df['cnt_days_deb_h_oper_3m'].unique()"
      ],
      "metadata": {
        "id": "ZvenKHgBmnrM"
      },
      "execution_count": null,
      "outputs": []
    },
    {
      "cell_type": "code",
      "source": [
        "#test_df['cnt_deb_h_oper_3m'].value_counts()"
      ],
      "metadata": {
        "id": "ZPtgM4vfnDV_"
      },
      "execution_count": null,
      "outputs": []
    },
    {
      "cell_type": "code",
      "source": [
        "#test_df['cnt_deb_h_oper_1m'].unique()"
      ],
      "metadata": {
        "id": "j_LJ9Y5bqQ3F"
      },
      "execution_count": null,
      "outputs": []
    },
    {
      "cell_type": "code",
      "source": [
        "#test_df['cnt_deb_h_oper_3m'].value_counts(normalize=True).plot.bar"
      ],
      "metadata": {
        "id": "rQGf63VGnc_y"
      },
      "execution_count": null,
      "outputs": []
    },
    {
      "cell_type": "code",
      "source": [
        "# обучение модели"
      ],
      "metadata": {
        "id": "6oNhutiZvBk8"
      },
      "execution_count": null,
      "outputs": []
    },
    {
      "cell_type": "code",
      "source": [
        "model = LGBMClassifier(verbosity=-1, random_state=100)\n",
        "model.fit(x_train, y_train)"
      ],
      "metadata": {
        "id": "FHob3-EMvHnU"
      },
      "execution_count": null,
      "outputs": []
    },
    {
      "cell_type": "code",
      "source": [
        "y_pred = model.predict_proba(x_val)[:, 1]\n",
        "roc_auc_score(y_val, y_pred)"
      ],
      "metadata": {
        "id": "kjbXO3UuvQLI"
      },
      "execution_count": null,
      "outputs": []
    },
    {
      "cell_type": "code",
      "source": [
        "test_df[cat_cols] = test_df[cat_cols].astype(\"category\")"
      ],
      "metadata": {
        "id": "o1HcACWh8SAe"
      },
      "execution_count": null,
      "outputs": []
    },
    {
      "cell_type": "code",
      "source": [
        "test_df.drop([\n",
        "#'rko_start_months',\n",
        "'max_end_fact_fin_deals',\n",
        "'max_end_plan_non_fin_deals',\n",
        "'max_start_fin_deals',\n",
        "'max_start_non_fin_deals',\n",
        "'min_end_fact_fin_deals',\n",
        "'min_end_plan_non_fin_deals',\n",
        "'min_start_fin_deals',\n",
        "'min_start_non_fin_deals',\n",
        "#'balance_amt_avg',\n",
        "#'balance_amt_max',\n",
        "#'balance_amt_min',\n",
        "#'balance_amt_day_avg',\n",
        "#'channel_code',\n",
        "'city',\n",
        "'city_type',\n",
        "'index_city_code',\n",
        "#'ogrn_days_end_month',\n",
        "#'ogrn_days_end_quarter',\n",
        "#'ogrn_month',\n",
        "#'ogrn_year',\n",
        "#'branch_code',\n",
        " #   'ft_registration_date', ////\n",
        "'max_founderpres',\n",
        "'min_founderpres',\n",
        "#'ogrn_exist_months',\n",
        "# 'okved',\n",
        "#'segment',\n",
        "#'sum_of_paym_2m',\n",
        "#'sum_of_paym_6m',\n",
        "#'sum_of_paym_1y',\n",
        "#'sum_a_oper_1m',\n",
        "#'cnt_a_oper_1m',\n",
        "'sum_b_oper_1m',\n",
        "#'cnt_b_oper_1m',\n",
        "#'sum_c_oper_1m',\n",
        "#'cnt_c_oper_1m',\n",
        "#'sum_deb_d_oper_1m',\n",
        "#'cnt_deb_d_oper_1m',\n",
        "#'sum_cred_d_oper_1m',\n",
        "#'cnt_cred_d_oper_1m',\n",
        "#'sum_deb_e_oper_1m',\n",
        "#'cnt_deb_e_oper_1m',\n",
        "#'cnt_days_deb_e_oper_1m' //////////////\n",
        "#'sum_cred_e_oper_1m',\n",
        "#'cnt_cred_e_oper_1m',\n",
        "#'cnt_days_cred_e_oper_1m', ////////////\n",
        "#'sum_deb_f_oper_1m',\n",
        "#'cnt_deb_f_oper_1m',\n",
        "#'cnt_days_deb_f_oper_1m',\n",
        "'sum_cred_f_oper_1m',\n",
        "#'cnt_cred_f_oper_1m',\n",
        "#'cnt_days_cred_f_oper_1m',\n",
        "#'sum_deb_g_oper_1m',\n",
        "#'cnt_deb_g_oper_1m',\n",
        "#'cnt_days_deb_g_oper_1m',\n",
        "#'sum_cred_g_oper_1m',\n",
        "#'cnt_cred_g_oper_1m',\n",
        "#'cnt_days_cred_g_oper_1m',\n",
        "#'sum_deb_h_oper_1m',\n",
        "#'cnt_deb_h_oper_1m',\n",
        "#'cnt_days_deb_h_oper_1m',\n",
        "#'sum_cred_h_oper_1m',\n",
        "#'cnt_cred_h_oper_1m',\n",
        "#'cnt_days_cred_h_oper_1m',\n",
        "#'sum_a_oper_3m',\n",
        "#'cnt_a_oper_3m',\n",
        "'sum_b_oper_3m',\n",
        "'cnt_b_oper_3m',\n",
        "#'sum_c_oper_3m',\n",
        "#'cnt_c_oper_3m',\n",
        "#'sum_deb_d_oper_3m',\n",
        "#'cnt_deb_d_oper_3m',\n",
        "#'sum_cred_d_oper_3m',\n",
        "#'cnt_cred_d_oper_3m',\n",
        "#'sum_deb_e_oper_3m',\n",
        "#'cnt_deb_e_oper_3m',\n",
        "#'cnt_days_deb_e_oper_3m', ///////////\n",
        "#'sum_cred_e_oper_3m',\n",
        "#'cnt_cred_e_oper_3m',\n",
        "#'cnt_days_cred_e_oper_3m', //////////\n",
        "#'sum_deb_f_oper_3m',\n",
        "#'cnt_deb_f_oper_3m',\n",
        "#'cnt_days_deb_f_oper_3m',\n",
        "#'sum_cred_f_oper_3m',\n",
        "#'cnt_cred_f_oper_3m',\n",
        "#'cnt_days_cred_f_oper_3m',\n",
        "#'sum_deb_g_oper_3m',\n",
        "#'cnt_deb_g_oper_3m',\n",
        "#'cnt_days_deb_g_oper_3m',\n",
        "#'sum_cred_g_oper_3m',\n",
        "#'cnt_cred_g_oper_3m',\n",
        "#'cnt_days_cred_g_oper_3m',\n",
        "#'sum_deb_h_oper_3m',\n",
        "#'cnt_deb_h_oper_3m',\n",
        "#'cnt_days_deb_h_oper_3m'\n",
        "#'sum_cred_h_oper_3m',\n",
        "#'cnt_cred_h_oper_3m',\n",
        "#'cnt_days_cred_h_oper_3m', ///////////\n",
        "], axis=1, inplace=True)"
      ],
      "metadata": {
        "id": "G4ZJvNKdNSAC"
      },
      "execution_count": null,
      "outputs": []
    },
    {
      "cell_type": "code",
      "source": [
        "test_score = model.predict_proba(test_df.drop(\"id\", axis=1))[:, 1]"
      ],
      "metadata": {
        "id": "yogDAGqp8Zo2"
      },
      "execution_count": null,
      "outputs": []
    },
    {
      "cell_type": "code",
      "source": [
        "sample_submission_df = pd.read_csv(\"sample_submission.csv\")"
      ],
      "metadata": {
        "id": "E7jgP1V48dOi"
      },
      "execution_count": null,
      "outputs": []
    },
    {
      "cell_type": "code",
      "source": [
        "sample_submission_df.head()"
      ],
      "metadata": {
        "id": "9VooQsNz8imS"
      },
      "execution_count": null,
      "outputs": []
    },
    {
      "cell_type": "code",
      "source": [
        "sample_submission_df[\"score\"] = test_score"
      ],
      "metadata": {
        "id": "PjNXzzPs8k6Q"
      },
      "execution_count": null,
      "outputs": []
    },
    {
      "cell_type": "code",
      "source": [
        "sample_submission_df.head()"
      ],
      "metadata": {
        "id": "5bP-TEg18nGX"
      },
      "execution_count": null,
      "outputs": []
    },
    {
      "cell_type": "code",
      "source": [
        "sample_submission_df.to_csv(\"my_submission.csv\", index=False)"
      ],
      "metadata": {
        "id": "8DqQAFsR8prH"
      },
      "execution_count": null,
      "outputs": []
    }
  ]
}
